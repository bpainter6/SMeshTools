{
 "cells": [
  {
   "cell_type": "code",
   "execution_count": 1,
   "id": "faeaa323-2b5d-4a70-87a6-e58e2f884a8a",
   "metadata": {},
   "outputs": [],
   "source": [
    "import numpy as np\n",
    "from smeshtools.hextools import *"
   ]
  },
  {
   "cell_type": "code",
   "execution_count": 2,
   "id": "24aec430-fc1c-4e53-9f93-922c67f3d887",
   "metadata": {},
   "outputs": [],
   "source": [
    "# Generate a text file that represents a hexagonal arrray with rings\n",
    "ring_ids_2d = [\"R01\",\"R02\",\"R03\",\"R04\",\"R05\",\"R06\",\"F07\",\"F08\",\"F09\",\"F10\",\"F11\",\"F12\"]\n",
    "ring_arr_2d = gen_hex_ring_2d_arr(ring_ids_2d,void_id=\"VOI\")\n",
    "arr_to_hex_text(ring_arr_2d,\"ring_hex_2d.txt\",hex_type=\"x\")"
   ]
  },
  {
   "cell_type": "code",
   "execution_count": 3,
   "id": "f685bdad-ae6a-475a-9442-55dab3851958",
   "metadata": {},
   "outputs": [
    {
     "data": {
      "text/plain": [
       "True"
      ]
     },
     "execution_count": 3,
     "metadata": {},
     "output_type": "execute_result"
    }
   ],
   "source": [
    "# Verify that the text to arr reader returns the original array\n",
    "ring_arr_2d_test = hex_text_to_arr(\"ring_hex_2d.txt\",hex_type=\"x\")\n",
    "np.all(ring_arr_2d==ring_arr_2d_test)"
   ]
  },
  {
   "cell_type": "code",
   "execution_count": null,
   "id": "305d08a2-7491-4392-83f7-690fffe4bc3e",
   "metadata": {},
   "outputs": [],
   "source": []
  }
 ],
 "metadata": {
  "kernelspec": {
   "display_name": "Python 3 (ipykernel)",
   "language": "python",
   "name": "python3"
  },
  "language_info": {
   "codemirror_mode": {
    "name": "ipython",
    "version": 3
   },
   "file_extension": ".py",
   "mimetype": "text/x-python",
   "name": "python",
   "nbconvert_exporter": "python",
   "pygments_lexer": "ipython3",
   "version": "3.12.3"
  }
 },
 "nbformat": 4,
 "nbformat_minor": 5
}
