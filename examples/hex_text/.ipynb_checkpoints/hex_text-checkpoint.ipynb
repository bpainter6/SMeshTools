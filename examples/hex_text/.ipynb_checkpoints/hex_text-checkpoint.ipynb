{
 "cells": [
  {
   "cell_type": "code",
   "execution_count": 1,
   "id": "007eae3e-0a11-4ec0-8413-975e4e9fc148",
   "metadata": {},
   "outputs": [],
   "source": [
    "import numpy as np\n",
    "from smeshtools.text.hex_ import *"
   ]
  },
  {
   "cell_type": "code",
   "execution_count": 2,
   "id": "d2cd42d1-fa7d-45a8-a1a0-eb159d6eafa6",
   "metadata": {},
   "outputs": [
    {
     "data": {
      "text/plain": [
       "True"
      ]
     },
     "execution_count": 2,
     "metadata": {},
     "output_type": "execute_result"
    }
   ],
   "source": [
    "# Generate a text file that represents a hexagonal arrray with rings\n",
    "ring_ids_2d = [\"a\",\"b\",\"c\",\"d\",\"e\",\"f\",\"g\"]\n",
    "ring_arr_2d = gen_hex_ring_2d_arr(ring_ids_2d)\n",
    "arr_to_hex_text(ring_arr_2d,\"ring_hex_2d.txt\",hex_type=\"x\")\n",
    "ring_arr_2d_test = hex_text_to_arr(\"ring_hex_2d.txt\",hex_type=\"x\")\n",
    "np.all(ring_arr_2d==ring_arr_2d_test)"
   ]
  },
  {
   "cell_type": "code",
   "execution_count": 3,
   "id": "4d7e3d5a-f609-4d32-84a8-59f533b8ecef",
   "metadata": {},
   "outputs": [
    {
     "data": {
      "text/plain": [
       "True"
      ]
     },
     "execution_count": 3,
     "metadata": {},
     "output_type": "execute_result"
    }
   ],
   "source": [
    "# Generate a text file that represents an x-type hexagonal array with a specific\n",
    "# number of elements in the x and y direction\n",
    "x_arr_2d = gen_hex_2d_arr(3,6)\n",
    "arr_to_hex_text(x_arr_2d,\"x_hex_2d.txt\",hex_type=\"x\")\n",
    "x_arr_2d_test = hex_text_to_arr(\"x_hex_2d.txt\",hex_type=\"x\")\n",
    "np.all(x_arr_2d==x_arr_2d_test)"
   ]
  },
  {
   "cell_type": "code",
   "execution_count": 4,
   "id": "11175316-f43f-49db-9ee2-8497c1c6aeb5",
   "metadata": {},
   "outputs": [
    {
     "data": {
      "text/plain": [
       "True"
      ]
     },
     "execution_count": 4,
     "metadata": {},
     "output_type": "execute_result"
    }
   ],
   "source": [
    "# Gnerate a text file that represents an x-type hexagonal array with a specific\n",
    "# number of elements in the x and y direction\n",
    "y_arr_2d = gen_hex_2d_arr(8,2)\n",
    "arr_to_hex_text(y_arr_2d,\"y_hex_2d.txt\",hex_type=\"y\")\n",
    "y_arr_2d_test = hex_text_to_arr(\"y_hex_2d.txt\",hex_type=\"y\")\n",
    "np.all(y_arr_2d==y_arr_2d_test)"
   ]
  },
  {
   "cell_type": "code",
   "execution_count": 5,
   "id": "64f00466-49f8-4b57-ae56-85682fd59435",
   "metadata": {},
   "outputs": [
    {
     "data": {
      "text/plain": [
       "True"
      ]
     },
     "execution_count": 5,
     "metadata": {},
     "output_type": "execute_result"
    }
   ],
   "source": [
    "# Generate a text file that represents a hexagonal arrray with rings\n",
    "ring_ids_3d = [[\"a_1\",\"b_1\",\"c_1\",\"d_1\",\"e_1\",\"f_1\",\"g_1\"],\n",
    "               [\"a_2\",\"b_2\",\"c_2\",\"d_2\",\"e_2\",\"f_2\",\"g_2\"],\n",
    "               [\"a_3\",\"b_3\",\"c_3\",\"d_3\",\"e_3\",\"f_3\",\"g_3\"]]\n",
    "ring_arr_3d = gen_hex_ring_3d_arr(ring_ids_3d)\n",
    "arr_to_hex_text(ring_arr_3d,\"ring_hex_3d.txt\",hex_type=\"x\")\n",
    "ring_arr_3d_test = hex_text_to_arr(\"ring_hex_3d.txt\",hex_type=\"x\")\n",
    "np.all(ring_arr_3d==ring_arr_3d_test)"
   ]
  },
  {
   "cell_type": "code",
   "execution_count": 6,
   "id": "0376d398-9a49-43ec-9b51-2f7267f55913",
   "metadata": {},
   "outputs": [
    {
     "data": {
      "text/plain": [
       "True"
      ]
     },
     "execution_count": 6,
     "metadata": {},
     "output_type": "execute_result"
    }
   ],
   "source": [
    "# Generate a text file that represents an x-type hexagonal array with a specific\n",
    "# number of elements in the x and y direction\n",
    "x_arr_3d = gen_hex_3d_arr(8,2,5)\n",
    "arr_to_hex_text(x_arr_3d,\"x_hex_3d.txt\",hex_type=\"x\")\n",
    "x_arr_3d_test = hex_text_to_arr(\"x_hex_3d.txt\",hex_type=\"x\")\n",
    "np.all(x_arr_3d==x_arr_3d_test)"
   ]
  },
  {
   "cell_type": "code",
   "execution_count": 7,
   "id": "f76b88a9-794b-4695-90cf-b4342ffb0ace",
   "metadata": {},
   "outputs": [
    {
     "data": {
      "text/plain": [
       "True"
      ]
     },
     "execution_count": 7,
     "metadata": {},
     "output_type": "execute_result"
    }
   ],
   "source": [
    "# Gnerate a text file that represents an x-type hexagonal array with a specific\n",
    "# number of elements in the x and y direction\n",
    "y_arr_3d = gen_hex_3d_arr(3,6,3)\n",
    "arr_to_hex_text(y_arr_3d,\"y_hex_3d.txt\",hex_type=\"y\")\n",
    "y_arr_3d_test = hex_text_to_arr(\"y_hex_3d.txt\",hex_type=\"y\")\n",
    "np.all(y_arr_3d==y_arr_3d_test)"
   ]
  },
  {
   "cell_type": "code",
   "execution_count": null,
   "id": "6ff0f633-55c0-444d-917c-a8a1c9715fd0",
   "metadata": {},
   "outputs": [],
   "source": []
  }
 ],
 "metadata": {
  "kernelspec": {
   "display_name": "Python 3 (ipykernel)",
   "language": "python",
   "name": "python3"
  },
  "language_info": {
   "codemirror_mode": {
    "name": "ipython",
    "version": 3
   },
   "file_extension": ".py",
   "mimetype": "text/x-python",
   "name": "python",
   "nbconvert_exporter": "python",
   "pygments_lexer": "ipython3",
   "version": "3.12.3"
  }
 },
 "nbformat": 4,
 "nbformat_minor": 5
}
