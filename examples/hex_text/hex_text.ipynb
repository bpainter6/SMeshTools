{
 "cells": [
  {
   "cell_type": "code",
   "execution_count": 1,
   "id": "007eae3e-0a11-4ec0-8413-975e4e9fc148",
   "metadata": {},
   "outputs": [],
   "source": [
    "import numpy as np\n",
    "from smeshtools.hextools import *"
   ]
  },
  {
   "cell_type": "code",
   "execution_count": 2,
   "id": "d2cd42d1-fa7d-45a8-a1a0-eb159d6eafa6",
   "metadata": {},
   "outputs": [
    {
     "data": {
      "text/plain": [
       "True"
      ]
     },
     "execution_count": 2,
     "metadata": {},
     "output_type": "execute_result"
    }
   ],
   "source": [
    "# Generate a text file that represents a hexagonal arrray with rings\n",
    "ring_ids_2d = [\"a\",\"b\",\"c\",\"d\",\"e\",\"f\",\"g\"]\n",
    "ring_arr_2d = gen_hex_ring_2d_arr(ring_ids_2d)\n",
    "arr_to_hex_text(ring_arr_2d,\"ring_hex_2d.txt\",hex_type=\"x\")\n",
    "ring_arr_2d_test = hex_text_to_arr(\"ring_hex_2d.txt\",hex_type=\"x\")\n",
    "np.all(ring_arr_2d==ring_arr_2d_test)"
   ]
  },
  {
   "cell_type": "code",
   "execution_count": 3,
   "id": "4d7e3d5a-f609-4d32-84a8-59f533b8ecef",
   "metadata": {},
   "outputs": [
    {
     "data": {
      "text/plain": [
       "True"
      ]
     },
     "execution_count": 3,
     "metadata": {},
     "output_type": "execute_result"
    }
   ],
   "source": [
    "# Generate a text file that represents an x-type hexagonal array with a specific\n",
    "# number of elements in the x and y direction\n",
    "x_arr_2d = gen_hex_2d_arr(3,6)\n",
    "arr_to_hex_text(x_arr_2d,\"x_hex_2d.txt\",hex_type=\"x\")\n",
    "x_arr_2d_test = hex_text_to_arr(\"x_hex_2d.txt\",hex_type=\"x\")\n",
    "np.all(x_arr_2d==x_arr_2d_test)"
   ]
  },
  {
   "cell_type": "code",
   "execution_count": 4,
   "id": "7be244f7-3ff8-4ba4-97d4-8e6480b09edd",
   "metadata": {},
   "outputs": [
    {
     "data": {
      "text/plain": [
       "array([['1', '4', '7', '10', '13', '16'],\n",
       "       ['2', '5', '8', '11', '14', '17'],\n",
       "       ['3', '6', '9', '12', '15', '18']], dtype='<U2')"
      ]
     },
     "execution_count": 4,
     "metadata": {},
     "output_type": "execute_result"
    }
   ],
   "source": [
    "x_arr_2d"
   ]
  },
  {
   "cell_type": "code",
   "execution_count": 5,
   "id": "11175316-f43f-49db-9ee2-8497c1c6aeb5",
   "metadata": {},
   "outputs": [
    {
     "data": {
      "text/plain": [
       "True"
      ]
     },
     "execution_count": 5,
     "metadata": {},
     "output_type": "execute_result"
    }
   ],
   "source": [
    "# Gnerate a text file that represents an x-type hexagonal array with a specific\n",
    "# number of elements in the x and y direction\n",
    "y_arr_2d = gen_hex_2d_arr(8,2)\n",
    "arr_to_hex_text(y_arr_2d,\"y_hex_2d.txt\",hex_type=\"y\")\n",
    "y_arr_2d_test = hex_text_to_arr(\"y_hex_2d.txt\",hex_type=\"y\")\n",
    "np.all(y_arr_2d==y_arr_2d_test)"
   ]
  },
  {
   "cell_type": "code",
   "execution_count": 6,
   "id": "64f00466-49f8-4b57-ae56-85682fd59435",
   "metadata": {},
   "outputs": [
    {
     "data": {
      "text/plain": [
       "True"
      ]
     },
     "execution_count": 6,
     "metadata": {},
     "output_type": "execute_result"
    }
   ],
   "source": [
    "# Generate a text file that represents a hexagonal arrray with rings\n",
    "ring_ids_3d = [[\"a_1\",\"b_1\",\"c_1\",\"d_1\",\"e_1\",\"f_1\",\"g_1\"],\n",
    "               [\"a_2\",\"b_2\",\"c_2\",\"d_2\",\"e_2\",\"f_2\",\"g_2\"],\n",
    "               [\"a_3\",\"b_3\",\"c_3\",\"d_3\",\"e_3\",\"f_3\",\"g_3\"]]\n",
    "ring_arr_3d = gen_hex_ring_3d_arr(ring_ids_3d)\n",
    "arr_to_hex_text(ring_arr_3d,\"ring_hex_3d.txt\",hex_type=\"x\")\n",
    "ring_arr_3d_test = hex_text_to_arr(\"ring_hex_3d.txt\",hex_type=\"x\")\n",
    "np.all(ring_arr_3d==ring_arr_3d_test)"
   ]
  },
  {
   "cell_type": "code",
   "execution_count": 24,
   "id": "0376d398-9a49-43ec-9b51-2f7267f55913",
   "metadata": {},
   "outputs": [
    {
     "data": {
      "text/plain": [
       "True"
      ]
     },
     "execution_count": 24,
     "metadata": {},
     "output_type": "execute_result"
    }
   ],
   "source": [
    "# Generate a text file that represents an x-type hexagonal array with a specific\n",
    "# number of elements in the x and y direction\n",
    "x_arr_3d = gen_hex_3d_arr(8,2,5)\n",
    "arr_to_hex_text(x_arr_3d,\"x_hex_3d.txt\",hex_type=\"x\")\n",
    "x_arr_3d_test = hex_text_to_arr(\"x_hex_3d.txt\",hex_type=\"x\")\n",
    "np.all(x_arr_3d==x_arr_3d_test)"
   ]
  },
  {
   "cell_type": "code",
   "execution_count": 33,
   "id": "b6092f02-c3fc-4123-9555-993f1f6af6e2",
   "metadata": {},
   "outputs": [
    {
     "name": "stdout",
     "output_type": "stream",
     "text": [
      "1 (0, 0, 0)\n",
      "2 (1, 0, 0)\n",
      "3 (2, 0, 0)\n",
      "4 (3, 0, 0)\n",
      "5 (4, 0, 0)\n",
      "6 (5, 0, 0)\n",
      "7 (6, 0, 0)\n",
      "8 (7, 0, 0)\n",
      "9 (0, 1, 0)\n",
      "10 (1, 1, 0)\n",
      "11 (2, 1, 0)\n",
      "12 (3, 1, 0)\n",
      "13 (4, 1, 0)\n",
      "14 (5, 1, 0)\n",
      "15 (6, 1, 0)\n",
      "16 (7, 1, 0)\n",
      "17 (0, 0, 1)\n",
      "18 (1, 0, 1)\n",
      "19 (2, 0, 1)\n",
      "20 (3, 0, 1)\n",
      "21 (4, 0, 1)\n",
      "22 (5, 0, 1)\n",
      "23 (6, 0, 1)\n",
      "24 (7, 0, 1)\n",
      "25 (0, 1, 1)\n",
      "26 (1, 1, 1)\n",
      "27 (2, 1, 1)\n",
      "28 (3, 1, 1)\n",
      "29 (4, 1, 1)\n",
      "30 (5, 1, 1)\n",
      "31 (6, 1, 1)\n",
      "32 (7, 1, 1)\n",
      "33 (0, 0, 2)\n",
      "34 (1, 0, 2)\n",
      "35 (2, 0, 2)\n",
      "36 (3, 0, 2)\n",
      "37 (4, 0, 2)\n",
      "38 (5, 0, 2)\n",
      "39 (6, 0, 2)\n",
      "40 (7, 0, 2)\n",
      "41 (0, 1, 2)\n",
      "42 (1, 1, 2)\n",
      "43 (2, 1, 2)\n",
      "44 (3, 1, 2)\n",
      "45 (4, 1, 2)\n",
      "46 (5, 1, 2)\n",
      "47 (6, 1, 2)\n",
      "48 (7, 1, 2)\n",
      "49 (0, 0, 3)\n",
      "50 (1, 0, 3)\n",
      "51 (2, 0, 3)\n",
      "52 (3, 0, 3)\n",
      "53 (4, 0, 3)\n",
      "54 (5, 0, 3)\n",
      "55 (6, 0, 3)\n",
      "56 (7, 0, 3)\n",
      "57 (0, 1, 3)\n",
      "58 (1, 1, 3)\n",
      "59 (2, 1, 3)\n",
      "60 (3, 1, 3)\n",
      "61 (4, 1, 3)\n",
      "62 (5, 1, 3)\n",
      "63 (6, 1, 3)\n",
      "64 (7, 1, 3)\n",
      "65 (0, 0, 4)\n",
      "66 (1, 0, 4)\n",
      "67 (2, 0, 4)\n",
      "68 (3, 0, 4)\n",
      "69 (4, 0, 4)\n",
      "70 (5, 0, 4)\n",
      "71 (6, 0, 4)\n",
      "72 (7, 0, 4)\n",
      "73 (0, 1, 4)\n",
      "74 (1, 1, 4)\n",
      "75 (2, 1, 4)\n",
      "76 (3, 1, 4)\n",
      "77 (4, 1, 4)\n",
      "78 (5, 1, 4)\n",
      "79 (6, 1, 4)\n",
      "80 (7, 1, 4)\n"
     ]
    }
   ],
   "source": [
    "for w,slice_data in enumerate(x_arr_3d.transpose([2,1,0])):\n",
    "    for v,row_data in enumerate(slice_data):\n",
    "        for u,Id in enumerate(row_data):\n",
    "            print(Id,(u,v,w))"
   ]
  },
  {
   "cell_type": "code",
   "execution_count": 15,
   "id": "7e58265b-299d-4bb0-952b-287925686825",
   "metadata": {},
   "outputs": [
    {
     "data": {
      "text/plain": [
       "array([['1', '17', '33', '49', '65'],\n",
       "       ['2', '18', '34', '50', '66'],\n",
       "       ['3', '19', '35', '51', '67'],\n",
       "       ['4', '20', '36', '52', '68'],\n",
       "       ['5', '21', '37', '53', '69'],\n",
       "       ['6', '22', '38', '54', '70'],\n",
       "       ['7', '23', '39', '55', '71'],\n",
       "       ['8', '24', '40', '56', '72'],\n",
       "       ['9', '25', '41', '57', '73'],\n",
       "       ['10', '26', '42', '58', '74'],\n",
       "       ['11', '27', '43', '59', '75'],\n",
       "       ['12', '28', '44', '60', '76'],\n",
       "       ['13', '29', '45', '61', '77'],\n",
       "       ['14', '30', '46', '62', '78'],\n",
       "       ['15', '31', '47', '63', '79'],\n",
       "       ['16', '32', '48', '64', '80']], dtype='<U2')"
      ]
     },
     "execution_count": 15,
     "metadata": {},
     "output_type": "execute_result"
    }
   ],
   "source": [
    "x_arr_3d.transpose([1,0,2]).reshape(nu*nv,nz)"
   ]
  },
  {
   "cell_type": "code",
   "execution_count": 16,
   "id": "f76b88a9-794b-4695-90cf-b4342ffb0ace",
   "metadata": {},
   "outputs": [
    {
     "data": {
      "text/plain": [
       "True"
      ]
     },
     "execution_count": 16,
     "metadata": {},
     "output_type": "execute_result"
    }
   ],
   "source": [
    "# Gnerate a text file that represents an x-type hexagonal array with a specific\n",
    "# number of elements in the x and y direction\n",
    "y_arr_3d = gen_hex_3d_arr(3,6,3)\n",
    "arr_to_hex_text(y_arr_3d,\"y_hex_3d.txt\",hex_type=\"y\")\n",
    "y_arr_3d_test = hex_text_to_arr(\"y_hex_3d.txt\",hex_type=\"y\")\n",
    "np.all(y_arr_3d==y_arr_3d_test)"
   ]
  },
  {
   "cell_type": "code",
   "execution_count": 18,
   "id": "7a0e2509-dd35-4be4-b421-f236ce9928f2",
   "metadata": {},
   "outputs": [
    {
     "data": {
      "text/plain": [
       "array([['1', '19', '37'],\n",
       "       ['2', '20', '38'],\n",
       "       ['3', '21', '39'],\n",
       "       ['4', '22', '40'],\n",
       "       ['5', '23', '41'],\n",
       "       ['6', '24', '42'],\n",
       "       ['7', '25', '43'],\n",
       "       ['8', '26', '44'],\n",
       "       ['9', '27', '45'],\n",
       "       ['10', '28', '46'],\n",
       "       ['11', '29', '47'],\n",
       "       ['12', '30', '48'],\n",
       "       ['13', '31', '49'],\n",
       "       ['14', '32', '50'],\n",
       "       ['15', '33', '51'],\n",
       "       ['16', '34', '52'],\n",
       "       ['17', '35', '53'],\n",
       "       ['18', '36', '54']], dtype='<U2')"
      ]
     },
     "execution_count": 18,
     "metadata": {},
     "output_type": "execute_result"
    }
   ],
   "source": [
    "nu,nv,nz = np.shape(y_arr_3d)\n",
    "y_arr_3d.transpose([1,0,2]).reshape(nu*nv,nz)"
   ]
  },
  {
   "cell_type": "code",
   "execution_count": null,
   "id": "6ff0f633-55c0-444d-917c-a8a1c9715fd0",
   "metadata": {},
   "outputs": [],
   "source": []
  }
 ],
 "metadata": {
  "kernelspec": {
   "display_name": "Python 3 (ipykernel)",
   "language": "python",
   "name": "python3"
  },
  "language_info": {
   "codemirror_mode": {
    "name": "ipython",
    "version": 3
   },
   "file_extension": ".py",
   "mimetype": "text/x-python",
   "name": "python",
   "nbconvert_exporter": "python",
   "pygments_lexer": "ipython3",
   "version": "3.12.3"
  }
 },
 "nbformat": 4,
 "nbformat_minor": 5
}
